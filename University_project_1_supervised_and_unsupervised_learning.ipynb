{
  "cells": [
    {
      "cell_type": "markdown",
      "metadata": {
        "id": "view-in-github",
        "colab_type": "text"
      },
      "source": [
        "<a href=\"https://colab.research.google.com/github/sabrinasforza/Portfolio/blob/main/University_project_1_supervised_and_unsupervised_learning.ipynb\" target=\"_parent\"><img src=\"https://colab.research.google.com/assets/colab-badge.svg\" alt=\"Open In Colab\"/></a>"
      ]
    },
    {
      "cell_type": "code",
      "execution_count": null,
      "id": "ca3c6232",
      "metadata": {
        "id": "ca3c6232"
      },
      "outputs": [],
      "source": [
        "#import necessary packages\n",
        "\n",
        "import pandas as pd\n",
        "import matplotlib.pyplot as plt \n",
        "import seaborn as sns\n",
        "import numpy as np"
      ]
    },
    {
      "cell_type": "code",
      "execution_count": null,
      "id": "3d593a8f",
      "metadata": {
        "id": "3d593a8f"
      },
      "outputs": [],
      "source": [
        "#import dataset\n",
        "\n",
        "mental_health = pd.read_csv (r'C:\\\\Users\\\\Downloads\\\\survey.csv', low_memory=False) #remember to take name away"
      ]
    },
    {
      "cell_type": "code",
      "execution_count": null,
      "id": "3445b4bc",
      "metadata": {
        "id": "3445b4bc"
      },
      "outputs": [],
      "source": [
        "#filter data by country \n",
        "\n",
        "filt_mh = (mental_health['Country'] == 'United Kingdom')\n",
        "mental_health[filt_mh]\n",
        "mental_health = mental_health[filt_mh]"
      ]
    },
    {
      "cell_type": "code",
      "execution_count": null,
      "id": "7c3ad9fa",
      "metadata": {
        "id": "7c3ad9fa"
      },
      "outputs": [],
      "source": [
        "#drop columns \n",
        "\n",
        "mental_health = mental_health.drop(columns=['Age', 'Timestamp', 'Country', 'state', 'comments'])\n"
      ]
    },
    {
      "cell_type": "code",
      "execution_count": null,
      "id": "24e81207",
      "metadata": {
        "id": "24e81207"
      },
      "outputs": [],
      "source": [
        "mental_health = mental_health.drop(columns=['self_employed', 'work_interfere', 'no_employees', 'phys_health_consequence', 'phys_health_interview',])"
      ]
    },
    {
      "cell_type": "code",
      "execution_count": null,
      "id": "ab099336",
      "metadata": {
        "id": "ab099336"
      },
      "outputs": [],
      "source": [
        "#replace string values with int values for all variables \n",
        "\n",
        "mental_health['family_history'].replace({ 'Yes':1, 'yes': 1, 'Don\\'t know': 0, 'Not sure': 0, 'No': 0, 'no' : 0, 'No ': 0, 'No':0},inplace=True)"
      ]
    },
    {
      "cell_type": "code",
      "execution_count": null,
      "id": "d36ad523",
      "metadata": {
        "id": "d36ad523"
      },
      "outputs": [],
      "source": [
        "mental_health['treatment'].replace({ 'Yes':1, 'yes': 1, 'Don\\'t know': 0, 'Not sure': 0,'No': 0, 'no' : 0, 'No ': 0, 'No':0},inplace=True)"
      ]
    },
    {
      "cell_type": "code",
      "execution_count": null,
      "id": "499e83ab",
      "metadata": {
        "id": "499e83ab"
      },
      "outputs": [],
      "source": [
        "mental_health['benefits'].replace({ 'Yes':1, 'yes': 1, 'Don\\'t know': 0, 'Not sure': 0, 'No': 0, 'no' : 0, 'No ': 0, 'No':0},inplace=True)"
      ]
    },
    {
      "cell_type": "code",
      "execution_count": null,
      "id": "b3165bdb",
      "metadata": {
        "id": "b3165bdb"
      },
      "outputs": [],
      "source": [
        "mental_health['remote_work'].replace({ 'Yes':1, 'yes': 1, 'Don\\'t know': 0, 'Not sure': 0, 'No': 0, 'no' : 0, 'No ': 0, 'No':0},inplace=True)"
      ]
    },
    {
      "cell_type": "code",
      "execution_count": null,
      "id": "cdf2e008",
      "metadata": {
        "id": "cdf2e008"
      },
      "outputs": [],
      "source": [
        "mental_health['care_options'].replace({ 'Yes':1, 'yes': 1, 'Don\\'t know': 0, 'Not sure': 0, 'No': 0, 'no' : 0, 'No ': 0, 'No':0},inplace=True)"
      ]
    },
    {
      "cell_type": "code",
      "execution_count": null,
      "id": "c2540583",
      "metadata": {
        "id": "c2540583"
      },
      "outputs": [],
      "source": [
        "mental_health['wellness_program'].replace({ 'Yes':1, 'yes': 1, 'Don\\'t know': 0, 'Not sure': 0, 'No': 0, 'no' : 0, 'No ': 0, 'No':0},inplace=True)"
      ]
    },
    {
      "cell_type": "code",
      "execution_count": null,
      "id": "89dcdc23",
      "metadata": {
        "id": "89dcdc23"
      },
      "outputs": [],
      "source": [
        "mental_health['anonymity'].replace({ 'Yes':1, 'yes': 1, 'Don\\'t know': 0, 'Not sure': 0,'No': 0, 'no' : 0, 'No ': 0, 'No':0},inplace=True)"
      ]
    },
    {
      "cell_type": "code",
      "execution_count": null,
      "id": "6f7080d9",
      "metadata": {
        "id": "6f7080d9"
      },
      "outputs": [],
      "source": [
        "mental_health['mental_health_consequence'].replace({ 'Yes':1, 'yes': 1, 'Maybe': 0,'Not sure': 0, 'No': 0, 'no' : 0, 'No ': 0, 'No':0},inplace=True)"
      ]
    },
    {
      "cell_type": "code",
      "execution_count": null,
      "id": "c263279d",
      "metadata": {
        "id": "c263279d"
      },
      "outputs": [],
      "source": [
        "mental_health['leave'].replace({ 'Very easy': 1, 'Somewhat easy':1, 'Don\\'t know' : 0, 'Not sure': 0,'Somewhat difficult': 0, 'Very difficult' : 0},inplace=True)"
      ]
    },
    {
      "cell_type": "code",
      "execution_count": null,
      "id": "27a874d6",
      "metadata": {
        "id": "27a874d6"
      },
      "outputs": [],
      "source": [
        "mental_health['coworkers'].replace({ 'Yes':1, 'yes': 1, 'Some of them': 1, 'Don\\'t know': 0, 'Not sure': 0,'No': 0, 'no' : 0, 'No ': 0, 'No':0},inplace=True)"
      ]
    },
    {
      "cell_type": "code",
      "execution_count": null,
      "id": "a6be68fc",
      "metadata": {
        "id": "a6be68fc"
      },
      "outputs": [],
      "source": [
        "mental_health['supervisor'].replace({ 'Yes':1, 'yes': 1, 'Some of them': 1, 'Don\\'t know': 0, 'Not sure': 0, 'No': 0, 'no' : 0, 'No ': 0, 'No':0},inplace=True)"
      ]
    },
    {
      "cell_type": "code",
      "execution_count": null,
      "id": "aee2521f",
      "metadata": {
        "id": "aee2521f"
      },
      "outputs": [],
      "source": [
        "mental_health['mental_health_interview'].replace({ 'Yes':1, 'yes': 1, 'Maybe': 0, 'Not sure': 0, 'No': 0, 'no' : 0, 'No ': 0, 'No':0},inplace=True)"
      ]
    },
    {
      "cell_type": "code",
      "execution_count": null,
      "id": "961960c4",
      "metadata": {
        "id": "961960c4"
      },
      "outputs": [],
      "source": [
        "mental_health['mental_vs_physical'].replace({ 'Yes':1, 'yes': 1, 'Don\\'t know': 0, 'Not sure': 0,'No': 0, 'no' : 0, 'No ': 0, 'No':0},inplace=True)"
      ]
    },
    {
      "cell_type": "code",
      "execution_count": null,
      "id": "6427c0b2",
      "metadata": {
        "id": "6427c0b2"
      },
      "outputs": [],
      "source": [
        "mental_health['obs_consequence'].replace({ 'Yes':1, 'yes': 1, 'Don\\'t know': 0, 'Not sure': 0, 'No': 0, 'no' :0, 'No ': 0, 'No': 0},inplace=True)"
      ]
    },
    {
      "cell_type": "code",
      "execution_count": null,
      "id": "05a0510d",
      "metadata": {
        "id": "05a0510d"
      },
      "outputs": [],
      "source": [
        "mental_health['Gender'].replace({'Male':1, 'Male ':1, 'male':1, 'm':1, 'M':1, 'Cis Man':1, 'Female':0, 'female':0, 'F':0, 'f':0, 'Woman':0, 'ostensibly male, unsure what that really means': 1, 'Androgyne': 0, 'Neuter': 0, 'Enby': 0, 'Agender':0},inplace=True)"
      ]
    },
    {
      "cell_type": "code",
      "execution_count": null,
      "id": "f27815ec",
      "metadata": {
        "id": "f27815ec"
      },
      "outputs": [],
      "source": [
        "mental_health['seek_help'].replace({ 'Yes':1, 'yes': 1, 'Don\\'t know': 0, 'No': 0, 'no' : 0, 'No ': 0, 'No': 0},inplace=True)\n"
      ]
    },
    {
      "cell_type": "code",
      "execution_count": null,
      "id": "d0885635",
      "metadata": {
        "id": "d0885635"
      },
      "outputs": [],
      "source": [
        "mental_health['tech_company'].replace({'Yes':1, 'No': 0, 'No ': 0, 'No': 0},inplace=True)\n"
      ]
    },
    {
      "cell_type": "code",
      "execution_count": null,
      "id": "5107df73",
      "metadata": {
        "id": "5107df73",
        "outputId": "77373882-fa78-4c87-d734-4b8ceae4b0eb"
      },
      "outputs": [
        {
          "data": {
            "image/png": "[encoded data removed]",
            "text/plain": [
              "<Figure size 432x288 with 1 Axes>"
            ]
          },
          "metadata": {},
          "output_type": "display_data"
        }
      ],
      "source": [
        "#gender statistics \n",
        "colors = ['orange', 'teal']\n",
        "mental_health['Gender'].value_counts().plot.pie(autopct='%1.0f%%', radius = 1.5, colors = colors, shadow = True)\n",
        "labels = [r'Male', r'Female and non-binary',]\n",
        "plt.legend(labels, loc=\"lower left\")\n",
        "plt.title('Gender')\n",
        "plt.show()"
      ]
    },
    {
      "cell_type": "code",
      "execution_count": null,
      "id": "fcb3c6af",
      "metadata": {
        "id": "fcb3c6af",
        "outputId": "ccc00af1-8cb8-4451-af88-79cb538fc1d2"
      },
      "outputs": [
        {
          "data": {
            "text/plain": [
              "1    139\n",
              "0     46\n",
              "Name: tech_company, dtype: int64"
            ]
          },
          "execution_count": 24,
          "metadata": {},
          "output_type": "execute_result"
        }
      ],
      "source": [
        "#tech company statistics\n",
        "mental_health['tech_company'].value_counts()"
      ]
    },
    {
      "cell_type": "code",
      "execution_count": null,
      "id": "c546054d",
      "metadata": {
        "id": "c546054d",
        "outputId": "94d6229d-f2a6-499d-e729-fe5d21ca5bee"
      },
      "outputs": [
        {
          "data": {
            "text/plain": [
              "<matplotlib.legend.Legend at 0x29aa2f1b610>"
            ]
          },
          "execution_count": 26,
          "metadata": {},
          "output_type": "execute_result"
        },
        {
          "data": {
            "image/png": "[encoded data removed]",
            "text/plain": [
              "<Figure size 432x288 with 1 Axes>"
            ]
          },
          "metadata": {
            "needs_background": "light"
          },
          "output_type": "display_data"
        }
      ],
      "source": [
        "#tech workers by gender statistics \n",
        "mental_health.groupby(['tech_company', 'Gender']).size().unstack().plot(kind = 'bar', stacked = True, color = ['orange', 'teal'])\n",
        "labels = [r'Female and non-binary', r'Male',]\n",
        "plt.xlabel ('non-tech and tech')\n",
        "plt.legend(labels)"
      ]
    },
    {
      "cell_type": "code",
      "execution_count": null,
      "id": "31402879",
      "metadata": {
        "id": "31402879",
        "outputId": "d34f8642-2894-49b5-cf07-6a9ce3f1e74c"
      },
      "outputs": [
        {
          "data": {
            "image/png": "[encoded data removed]",
            "text/plain": [
              "<Figure size 432x288 with 1 Axes>"
            ]
          },
          "metadata": {},
          "output_type": "display_data"
        }
      ],
      "source": [
        "#seek help statistics\n",
        "colors = ['orange', 'teal', 'red']\n",
        "mental_health['seek_help'].value_counts().plot.pie(autopct='%1.0f%%', radius = 1.5, colors = colors, shadow = True)\n",
        "labels = [r'No/Do not know', r'Yes']\n",
        "plt.legend(labels, loc=\"upper right\")\n",
        "plt.title('Does employer provide resources about mental health and how to seek help?')\n",
        "plt.show()"
      ]
    },
    {
      "cell_type": "code",
      "execution_count": null,
      "id": "1497ce58",
      "metadata": {
        "id": "1497ce58",
        "outputId": "ac9a7245-015f-46a0-8446-9c57a693921b"
      },
      "outputs": [
        {
          "data": {
            "text/plain": [
              "<matplotlib.legend.Legend at 0x29aa305ac70>"
            ]
          },
          "execution_count": 29,
          "metadata": {},
          "output_type": "execute_result"
        },
        {
          "data": {
            "image/png": "[encoded data removed]",
            "text/plain": [
              "<Figure size 432x288 with 1 Axes>"
            ]
          },
          "metadata": {
            "needs_background": "light"
          },
          "output_type": "display_data"
        }
      ],
      "source": [
        "#seek help by sector\n",
        "mental_health.groupby(['tech_company', 'seek_help']).size().unstack().plot(kind = 'bar', stacked = True, color = ['orange', 'teal'])\n",
        "labels = [r'No/Do not know', r'Yes',]\n",
        "plt.xlabel ('seek_help by sector')\n",
        "plt.legend(labels)"
      ]
    },
    {
      "cell_type": "code",
      "execution_count": null,
      "id": "51432119",
      "metadata": {
        "id": "51432119",
        "outputId": "a5031f3b-40ce-4b2d-f84c-895f0cedd201"
      },
      "outputs": [
        {
          "data": {
            "image/png": "[encoded data removed]",
            "text/plain": [
              "<Figure size 432x288 with 2 Axes>"
            ]
          },
          "metadata": {
            "needs_background": "light"
          },
          "output_type": "display_data"
        }
      ],
      "source": [
        "#heatmap for all variables\n",
        "\n",
        "x = mental_health \n",
        "corr = x.corr()\n",
        "sns.heatmap(corr) \n",
        "plt.show() \n"
      ]
    },
    {
      "cell_type": "code",
      "execution_count": null,
      "id": "b97e6027",
      "metadata": {
        "id": "b97e6027"
      },
      "outputs": [],
      "source": [
        "#assigning numeric values to column names\n",
        "mental_health = mental_health.rename(columns={'Gender': 1, 'tech_company': 2, 'seek_help': 3, 'family_history': 4, 'treatment': 5, 'remote_work':6,'benefits':7, 'care_options':8, 'wellness_program':9, 'anonymity':10, 'leave':11, 'mental_health_consequence':12,'coworkers':13, 'supervisor':14, 'mental_health_interview':15,'mental_vs_physical':16, 'obs_consequence':17})"
      ]
    },
    {
      "cell_type": "code",
      "execution_count": null,
      "id": "86c31c04",
      "metadata": {
        "id": "86c31c04"
      },
      "outputs": [],
      "source": [
        "#scale the data\n",
        "import matplotlib.pyplot as plt\n",
        "from sklearn import datasets\n",
        "from sklearn import metrics\n",
        "from sklearn import cluster\n",
        "from sklearn.preprocessing import scale\n",
        "from sklearn.cluster import AgglomerativeClustering\n",
        "outcome = mental_health.values[:, 2:17]\n",
        "attributes = mental_health.values[:, 1]\n",
        "scaled_data = scale(outcome)\n",
        "#mh_Scaled = scale(mental_health) \n",
        "#labels_true = mh_Scaled\n",
        "#labels_actual = mental_health['Gender']\n",
        "#n_samples, n_features = mh_Scaled.shape\n",
        "n_digits = 3"
      ]
    },
    {
      "cell_type": "code",
      "execution_count": null,
      "id": "6c594fa5",
      "metadata": {
        "id": "6c594fa5",
        "outputId": "dcf8dd73-d36e-497b-e704-745b46828b61"
      },
      "outputs": [
        {
          "data": {
            "text/plain": [
              "array([0, 0, 0, 0, 0, 0, 0, 0, 0, 0, 0, 0, 0, 0, 0, 0, 0, 0, 1, 0, 1, 1,\n",
              "       0, 0, 0, 0, 0, 0, 0, 0, 0, 0, 0, 0, 0, 0, 0, 0, 0, 0, 0, 0, 0, 0,\n",
              "       0, 0, 0, 0, 0, 0, 0, 0, 0, 0, 0, 0, 0, 0, 0, 0, 0, 1, 0, 0, 0, 0,\n",
              "       0, 0, 0, 0, 0, 0, 0, 0, 0, 0, 0, 0, 0, 0, 0, 0, 0, 0, 0, 0, 0, 0,\n",
              "       0, 0, 0, 0, 0, 0, 0, 0, 0, 0, 2, 0, 0, 0, 0, 0, 0, 0, 0, 0, 0, 0,\n",
              "       0, 0, 0, 0, 0, 0, 0, 0, 1, 0, 0, 1, 0, 0, 0, 0, 0, 0, 0, 0, 0, 0,\n",
              "       1, 0, 0, 0, 0, 1, 0, 0, 1, 0, 0, 0, 0, 0, 0, 0, 0, 0, 0, 0, 1, 1,\n",
              "       1, 0, 1, 0, 0, 0, 0, 0, 0, 0, 0, 0, 0, 0, 1, 0, 0, 0, 0, 0, 0, 1,\n",
              "       0, 0, 0, 0, 1, 0, 0, 0, 0], dtype=int64)"
            ]
          },
          "execution_count": 43,
          "metadata": {},
          "output_type": "execute_result"
        }
      ],
      "source": [
        "#unsupervised learning: hierarchical agglomerative clustering\n",
        "model = cluster.AgglomerativeClustering(n_clusters= n_digits, linkage=\"average\", affinity=\"hamming\")\n",
        "model.fit(scaled_data)\n",
        "model.fit_predict(scaled_data)"
      ]
    },
    {
      "cell_type": "code",
      "execution_count": null,
      "id": "d9f37fec",
      "metadata": {
        "id": "d9f37fec",
        "outputId": "525bf978-c038-4266-8234-e1b14dca6728"
      },
      "outputs": [
        {
          "name": "stdout",
          "output_type": "stream",
          "text": [
            "The completeness score is 0.015762283142439475\n",
            "The homogeneity score is 0.008299594391214568\n"
          ]
        }
      ],
      "source": [
        "#homogeneity and completeness scores\n",
        "from sklearn.metrics.cluster import homogeneity_score\n",
        "from sklearn.metrics.cluster import completeness_score\n",
        "print('The completeness score is', metrics.completeness_score(attributes, model.labels_))\n",
        "print('The homogeneity score is', metrics.homogeneity_score(attributes, model.labels_))"
      ]
    },
    {
      "cell_type": "code",
      "execution_count": null,
      "id": "92f83b8c",
      "metadata": {
        "id": "92f83b8c",
        "outputId": "646dc5a4-e746-4755-9f27-ef6389b1867b"
      },
      "outputs": [
        {
          "name": "stdout",
          "output_type": "stream",
          "text": [
            "The silhouette score is 0.30233584554083504\n"
          ]
        }
      ],
      "source": [
        "#silhouette score\n",
        "print(\"The silhouette score is\", metrics.silhouette_score(scaled_data, model.labels_)) "
      ]
    },
    {
      "cell_type": "code",
      "execution_count": null,
      "id": "d754d15b",
      "metadata": {
        "id": "d754d15b",
        "outputId": "6b42ece4-8a15-4c82-c1ed-b75fa8740a97"
      },
      "outputs": [
        {
          "data": {
            "image/png": "[encoded data removed]",
            "text/plain": [
              "<Figure size 432x288 with 1 Axes>"
            ]
          },
          "metadata": {
            "needs_background": "light"
          },
          "output_type": "display_data"
        }
      ],
      "source": [
        "#plotting the dendrogram\n",
        "from scipy.cluster.hierarchy import dendrogram, linkage\n",
        "model = linkage(scaled_data, 'complete')\n",
        "plt.figure()\n",
        "plt.title('Hierarchical Clustering Dendrogram')\n",
        "plt.xlabel('sample index')\n",
        "plt.ylabel('distance')\n",
        "dendrogram(model, leaf_rotation=90., leaf_font_size=8.,)\n",
        "plt.show()"
      ]
    },
    {
      "cell_type": "code",
      "execution_count": null,
      "id": "9b6ae5d8",
      "metadata": {
        "id": "9b6ae5d8"
      },
      "outputs": [],
      "source": [
        "#supervised learning: segmenting the data\n",
        "attr = mental_health.values[:, 2:17]\n",
        "output = mental_health.values[:, 1]"
      ]
    },
    {
      "cell_type": "code",
      "execution_count": null,
      "id": "06109f0a",
      "metadata": {
        "id": "06109f0a"
      },
      "outputs": [],
      "source": [
        "#splitting data into test and train\n",
        "from sklearn import model_selection \n",
        "X_train, X_test, Y_train, Y_test = model_selection.train_test_split(attr, output, test_size=0.3)"
      ]
    },
    {
      "cell_type": "code",
      "execution_count": null,
      "id": "06b35e56",
      "metadata": {
        "id": "06b35e56",
        "outputId": "d97e0f1e-fb4d-486e-dd99-08fe4bd7bb6d"
      },
      "outputs": [
        {
          "name": "stdout",
          "output_type": "stream",
          "text": [
            "              precision    recall  f1-score   support\n",
            "\n",
            "           0       0.61      0.91      0.73        34\n",
            "           1       0.40      0.09      0.15        22\n",
            "\n",
            "    accuracy                           0.59        56\n",
            "   macro avg       0.50      0.50      0.44        56\n",
            "weighted avg       0.53      0.59      0.50        56\n",
            "\n",
            "[[31  3]\n",
            " [20  2]]\n"
          ]
        }
      ],
      "source": [
        "#logistic regression\n",
        "from sklearn.linear_model import LogisticRegression\n",
        "lm = LogisticRegression() \n",
        "lm.fit(X_train, Y_train)\n",
        "lm.predict_proba(X_test)\n",
        "predicted = lm.predict(X_test)\n",
        "print(metrics.classification_report(Y_test, predicted))\n",
        "cnf_matrix = metrics.confusion_matrix(Y_test, predicted)\n",
        "print(metrics.confusion_matrix(Y_test, predicted))"
      ]
    },
    {
      "cell_type": "code",
      "execution_count": null,
      "id": "9e0e450f",
      "metadata": {
        "id": "9e0e450f",
        "outputId": "19454aee-6b26-4c4e-d63e-59b9bb8fbe0c"
      },
      "outputs": [
        {
          "data": {
            "text/plain": [
              "Text(0.5, 257.44, 'Predicted')"
            ]
          },
          "execution_count": 54,
          "metadata": {},
          "output_type": "execute_result"
        },
        {
          "data": {
            "image/png": "[encoded data removed]",
            "text/plain": [
              "<Figure size 432x288 with 2 Axes>"
            ]
          },
          "metadata": {
            "needs_background": "light"
          },
          "output_type": "display_data"
        }
      ],
      "source": [
        "#confusion matrix plotting\n",
        "class_names=[0,1] \n",
        "fig, ax = plt.subplots()\n",
        "tick_marks = np.arange(len(class_names))\n",
        "plt.xticks(tick_marks, class_names)\n",
        "plt.yticks(tick_marks, class_names)\n",
        "sns.heatmap(pd.DataFrame(cnf_matrix), annot=True, cmap=\"YlGnBu\" ,fmt='g')\n",
        "ax.xaxis.set_label_position(\"top\")\n",
        "plt.tight_layout()\n",
        "plt.ylabel('Actual')\n",
        "plt.xlabel('Predicted')"
      ]
    },
    {
      "cell_type": "code",
      "execution_count": null,
      "id": "a682b008",
      "metadata": {
        "id": "a682b008",
        "outputId": "56b46bbf-51cc-4544-e2d7-8b8b05e9fce4"
      },
      "outputs": [
        {
          "name": "stdout",
          "output_type": "stream",
          "text": [
            "DecisionTreeClassifier()\n",
            "              precision    recall  f1-score   support\n",
            "\n",
            "           0       0.72      0.79      0.76        39\n",
            "           1       0.38      0.29      0.33        17\n",
            "\n",
            "    accuracy                           0.64        56\n",
            "   macro avg       0.55      0.54      0.54        56\n",
            "weighted avg       0.62      0.64      0.63        56\n",
            "\n",
            "[[31  8]\n",
            " [12  5]]\n"
          ]
        }
      ],
      "source": [
        "#decision tree \n",
        "import sklearn\n",
        "from sklearn import model_selection\n",
        "from sklearn.tree import DecisionTreeClassifier\n",
        "X_train, X_test, Y_train, Y_test = sklearn.model_selection.train_test_split(attr, output, test_size = 0.30)\n",
        "model = DecisionTreeClassifier()\n",
        "model.fit(X_train, Y_train)\n",
        "print(model)\n",
        "y_pred = model.predict(X_test)\n",
        "print(metrics.classification_report(Y_test,y_pred))\n",
        "cnf_matrix2 = metrics.confusion_matrix(Y_test,y_pred)\n",
        "print(metrics.confusion_matrix(Y_test,y_pred))"
      ]
    },
    {
      "cell_type": "code",
      "execution_count": null,
      "id": "e506b4bb",
      "metadata": {
        "id": "e506b4bb",
        "outputId": "0956c963-5a04-4bcd-8509-8ef2bff00ef1"
      },
      "outputs": [
        {
          "data": {
            "text/plain": [
              "Text(0.5, 257.44, 'Predicted')"
            ]
          },
          "execution_count": 55,
          "metadata": {},
          "output_type": "execute_result"
        },
        {
          "data": {
            "image/png": "[encoded data removed]",
            "text/plain": [
              "<Figure size 432x288 with 2 Axes>"
            ]
          },
          "metadata": {
            "needs_background": "light"
          },
          "output_type": "display_data"
        }
      ],
      "source": [
        "#confusion matrix plotting\n",
        "class_names=[0,1]\n",
        "fig, ax = plt.subplots()\n",
        "tick_marks = np.arange(len(class_names))\n",
        "plt.xticks(tick_marks, class_names)\n",
        "plt.yticks(tick_marks, class_names)\n",
        "sns.heatmap(pd.DataFrame(cnf_matrix2), annot=True, cmap=\"YlGnBu\" ,fmt='g')\n",
        "ax.xaxis.set_label_position(\"top\")\n",
        "plt.tight_layout()\n",
        "plt.ylabel('Actual')\n",
        "plt.xlabel('Predicted')\n"
      ]
    },
    {
      "cell_type": "code",
      "execution_count": null,
      "id": "025aa328",
      "metadata": {
        "id": "025aa328",
        "outputId": "993a7658-2f2a-499d-9e16-b0f5d348708d"
      },
      "outputs": [
        {
          "name": "stdout",
          "output_type": "stream",
          "text": [
            "              precision    recall  f1-score   support\n",
            "\n",
            "           0       0.76      0.78      0.77        40\n",
            "           1       0.40      0.38      0.39        16\n",
            "\n",
            "    accuracy                           0.66        56\n",
            "   macro avg       0.58      0.57      0.58        56\n",
            "weighted avg       0.65      0.66      0.66        56\n",
            "\n",
            "[[31  9]\n",
            " [10  6]]\n"
          ]
        }
      ],
      "source": [
        "#naive bayes\n",
        "from sklearn.naive_bayes import GaussianNB\n",
        "X_train, X_test, y_train, y_test = sklearn.model_selection.train_test_split(attr, output, test_size = 0.30)\n",
        "model = GaussianNB()\n",
        "model.fit(X_train, y_train)\n",
        "y_pred = model.predict(X_test)\n",
        "print(metrics.classification_report(y_test,y_pred))\n",
        "cnf_matrix3 = metrics.confusion_matrix(y_test,y_pred)\n",
        "print(metrics.confusion_matrix(y_test,y_pred))"
      ]
    },
    {
      "cell_type": "code",
      "execution_count": null,
      "id": "6388f9bf",
      "metadata": {
        "id": "6388f9bf",
        "outputId": "5ed4a8a7-3a93-4525-f860-29d2e133591a"
      },
      "outputs": [
        {
          "data": {
            "text/plain": [
              "Text(0.5, 257.44, 'Predicted')"
            ]
          },
          "execution_count": 56,
          "metadata": {},
          "output_type": "execute_result"
        },
        {
          "data": {
            "image/png": "[encoded data removed]",
            "text/plain": [
              "<Figure size 432x288 with 2 Axes>"
            ]
          },
          "metadata": {
            "needs_background": "light"
          },
          "output_type": "display_data"
        }
      ],
      "source": [
        "#confusion matrix plotting\n",
        "class_names=[0,1] \n",
        "fig, ax = plt.subplots()\n",
        "tick_marks = np.arange(len(class_names))\n",
        "plt.xticks(tick_marks, class_names)\n",
        "plt.yticks(tick_marks, class_names)\n",
        "sns.heatmap(pd.DataFrame(cnf_matrix3), annot=True, cmap=\"YlGnBu\" ,fmt='g')\n",
        "ax.xaxis.set_label_position(\"top\")\n",
        "plt.tight_layout()\n",
        "plt.ylabel('Actual')\n",
        "plt.xlabel('Predicted')"
      ]
    }
  ],
  "metadata": {
    "kernelspec": {
      "display_name": "Python 3",
      "language": "python",
      "name": "python3"
    },
    "language_info": {
      "codemirror_mode": {
        "name": "ipython",
        "version": 3
      },
      "file_extension": ".py",
      "mimetype": "text/x-python",
      "name": "python",
      "nbconvert_exporter": "python",
      "pygments_lexer": "ipython3",
      "version": "3.8.8"
    },
    "colab": {
      "provenance": [],
      "include_colab_link": true
    }
  },
  "nbformat": 4,
  "nbformat_minor": 5
}